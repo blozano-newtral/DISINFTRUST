{
 "cells": [
  {
   "cell_type": "code",
   "execution_count": 2,
   "id": "ff2e808b-b4b8-4186-8618-54c8532a7c2e",
   "metadata": {
    "tags": []
   },
   "outputs": [],
   "source": [
    "import os\n",
    "import time\n",
    "import openai"
   ]
  },
  {
   "cell_type": "code",
   "execution_count": 3,
   "id": "b7b891a4-9a6f-4a61-90ee-f54bf8e45e69",
   "metadata": {
    "tags": []
   },
   "outputs": [],
   "source": [
    "API_KEY_PATH = \"/home/borjalozano/.openai_lozanoalvarezb_key\"\n",
    "with open(os.path.expanduser(API_KEY_PATH),'r') as file:\n",
    "    API_KEY=file.read()\n",
    "\n",
    "# openai.organization = \"org-04VXSUT9JoL0BiDAs1kMZ9PN\"\n",
    "openai.api_key = API_KEY"
   ]
  },
  {
   "cell_type": "code",
   "execution_count": 4,
   "id": "e8e350d6-9d7b-43af-86a7-1543b661b5de",
   "metadata": {
    "tags": []
   },
   "outputs": [],
   "source": [
    "# Test authentication\n",
    "models = openai.Model.list()[\"data\"]"
   ]
  },
  {
   "cell_type": "markdown",
   "id": "f4eac38d-2e7a-48e3-94cf-2ac6f4d86517",
   "metadata": {},
   "source": [
    "# OpenAI-GPT embeddings"
   ]
  },
  {
   "cell_type": "code",
   "execution_count": 5,
   "id": "cabc413f-4fe4-4b33-b224-7a10b0705073",
   "metadata": {
    "tags": []
   },
   "outputs": [],
   "source": [
    "import pandas as pd\n",
    "from tqdm import tqdm\n",
    "pd.set_option('max_colwidth',None)\n",
    "pd.set_option('display.max_columns', None)"
   ]
  },
  {
   "cell_type": "markdown",
   "id": "006629c1-148f-4b9c-881e-fcfb21fb62b7",
   "metadata": {},
   "source": [
    "\n",
    "<div class=\"alert alert-block alert-info\">\n",
    "Download the parsed claims from https://drive.google.com/file/d/1QlCtKtSwdUX6NWOcUXijmxi4JoSdp49O/view?usp=sharing\n",
    "</div>"
   ]
  },
  {
   "cell_type": "code",
   "execution_count": 6,
   "id": "c7cb02e0-4c58-45c2-b4e8-4942e1f90fb0",
   "metadata": {
    "tags": []
   },
   "outputs": [],
   "source": [
    "claims_path = \"../claims_parse_urls-6m-hard_clean.json\""
   ]
  },
  {
   "cell_type": "code",
   "execution_count": 7,
   "id": "381f6da5-42f3-49d8-88c3-c701c3ff6130",
   "metadata": {
    "tags": []
   },
   "outputs": [],
   "source": [
    "claims = pd.read_json(claims_path)"
   ]
  },
  {
   "cell_type": "code",
   "execution_count": 8,
   "id": "1d0f67fe-4889-4996-863c-555b8644fb68",
   "metadata": {
    "tags": []
   },
   "outputs": [],
   "source": [
    "config_id = \"3f7502f069c028e2e9bb764130bb2c9f\""
   ]
  },
  {
   "cell_type": "code",
   "execution_count": 9,
   "id": "8c07df98-4392-4b36-a738-fa81aa7cdd4d",
   "metadata": {
    "tags": []
   },
   "outputs": [],
   "source": [
    "embeddings = {}"
   ]
  },
  {
   "cell_type": "code",
   "execution_count": 22,
   "id": "c7a2bb16-322e-426e-9a6b-38b912362c7f",
   "metadata": {
    "tags": []
   },
   "outputs": [
    {
     "name": "stderr",
     "output_type": "stream",
     "text": [
      "100%|████████████████████████████████████████████████████████████████████████████████████████████████████████████████████████████████████████████████████████████████████████| 18951/18951 [19:17<00:00, 16.37it/s]\n"
     ]
    }
   ],
   "source": [
    "for claim_id, text in tqdm(claims.text.items(),total=len(claims)):\n",
    "    if claim_id in embeddings:\n",
    "        continue\n",
    "    try:\n",
    "        response = openai.Embedding.create(\n",
    "            input=\"Your text string goes here\",\n",
    "            model=\"text-embedding-ada-002\"\n",
    "        )\n",
    "    except openai.error.RateLimitError:\n",
    "        time.sleep(5)\n",
    "        response = openai.Embedding.create(\n",
    "            input=\"Your text string goes here\",\n",
    "            model=\"text-embedding-ada-002\"\n",
    "        )\n",
    "\n",
    "    embedding = response['data'][0]['embedding']\n",
    "    embeddings[claim_id] = embedding\n"
   ]
  },
  {
   "cell_type": "code",
   "execution_count": 24,
   "id": "d96eb593-b3c6-4d5e-9bc2-062350070a6f",
   "metadata": {
    "tags": []
   },
   "outputs": [],
   "source": [
    "import json\n",
    "with open('text-embedding-ada-002.json', 'w') as f:\n",
    "    json.dump(embeddings, f)"
   ]
  },
  {
   "cell_type": "code",
   "execution_count": null,
   "id": "23f37214-4beb-4880-b68f-70037cdac58b",
   "metadata": {},
   "outputs": [],
   "source": []
  }
 ],
 "metadata": {
  "kernelspec": {
   "display_name": "Python 3 (ipykernel)",
   "language": "python",
   "name": "python3"
  },
  "language_info": {
   "codemirror_mode": {
    "name": "ipython",
    "version": 3
   },
   "file_extension": ".py",
   "mimetype": "text/x-python",
   "name": "python",
   "nbconvert_exporter": "python",
   "pygments_lexer": "ipython3",
   "version": "3.10.6"
  }
 },
 "nbformat": 4,
 "nbformat_minor": 5
}
