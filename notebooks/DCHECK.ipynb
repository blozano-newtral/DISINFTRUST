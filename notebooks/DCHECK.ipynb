{
 "cells": [
  {
   "cell_type": "code",
   "execution_count": 1,
   "id": "525687cf-5299-4650-8b46-f37253620418",
   "metadata": {
    "tags": []
   },
   "outputs": [],
   "source": [
    "import pandas as pd"
   ]
  },
  {
   "cell_type": "code",
   "execution_count": 5,
   "id": "25dfb701-3813-429a-8bca-e84363ef62b6",
   "metadata": {
    "tags": []
   },
   "outputs": [],
   "source": [
    "path = \"/home/borja_lozano/Downloads/claims_parse_urls-6m-hard_clean.json\""
   ]
  },
  {
   "cell_type": "code",
   "execution_count": null,
   "id": "7d6b83a3-9347-4172-b577-99c751c9ae46",
   "metadata": {
    "tags": []
   },
   "outputs": [],
   "source": [
    "claims = pd.read_csv(path)"
   ]
  },
  {
   "cell_type": "code",
   "execution_count": null,
   "id": "c901e17b-3f1a-4407-9b36-6aef600652b2",
   "metadata": {
    "tags": []
   },
   "outputs": [],
   "source": [
    "eu_lang = [\"bg\",\"hr\",\"cs\",\"da\",\"nl\",\"en\",\"et\",\"fi\",\"fr\",\"de\",\"el\",\"hu\",\"ga\",\"it\",\"lv\",\"lt\",\"mt\",\"pl\",\"pt\",\"ro\",\"sk\",\"sl\",\"es\",\"sv\"]"
   ]
  },
  {
   "cell_type": "code",
   "execution_count": null,
   "id": "8ccb36d0-bc93-498b-8f99-9e7de6dc86f4",
   "metadata": {
    "tags": []
   },
   "outputs": [],
   "source": [
    "claims.sample(10).languageISO.apply(lambda x: x in eu_lang)"
   ]
  },
  {
   "cell_type": "code",
   "execution_count": null,
   "id": "8b3c8e3d-8167-4a36-a4c8-d6a2509cbcc3",
   "metadata": {},
   "outputs": [],
   "source": []
  }
 ],
 "metadata": {
  "kernelspec": {
   "display_name": "Python 3 (ipykernel)",
   "language": "python",
   "name": "python3"
  },
  "language_info": {
   "codemirror_mode": {
    "name": "ipython",
    "version": 3
   },
   "file_extension": ".py",
   "mimetype": "text/x-python",
   "name": "python",
   "nbconvert_exporter": "python",
   "pygments_lexer": "ipython3",
   "version": "3.8.10"
  }
 },
 "nbformat": 4,
 "nbformat_minor": 5
}
