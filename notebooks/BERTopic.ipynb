{
 "cells": [
  {
   "cell_type": "markdown",
   "id": "0c49b008-6d59-4c94-85e6-3048b6013926",
   "metadata": {
    "tags": []
   },
   "source": [
    "# Setup"
   ]
  },
  {
   "cell_type": "code",
   "execution_count": 172,
   "id": "1afa67e2-7a5b-48ba-86e8-f6e48fc60cb1",
   "metadata": {
    "tags": []
   },
   "outputs": [],
   "source": [
    "import hashlib\n",
    "import json\n",
    "import os\n",
    "import shutil\n",
    "from urllib.parse import urlparse\n",
    "\n",
    "import geopandas\n",
    "import ipywidgets as widgets\n",
    "import matplotlib.dates as mdates\n",
    "import matplotlib.pyplot as plt\n",
    "import numpy as np\n",
    "import pandas as pd\n",
    "import seaborn as sns\n",
    "from bertopic import BERTopic\n",
    "from bertopic.vectorizers import ClassTfidfTransformer\n",
    "from hdbscan import HDBSCAN\n",
    "from IPython.display import HTML, display\n",
    "from ipywidgets import interact, interact_manual\n",
    "from sentence_transformers import SentenceTransformer\n",
    "from tqdm.notebook import tqdm\n",
    "from umap import UMAP\n"
   ]
  },
  {
   "cell_type": "code",
   "execution_count": 178,
   "id": "ae5755cb-fb7d-4455-a444-b0f19ff9054d",
   "metadata": {
    "tags": []
   },
   "outputs": [],
   "source": [
    "claims_path = \"../claims_parse_urls-6m-hard_clean.json\""
   ]
  },
  {
   "cell_type": "code",
   "execution_count": 190,
   "id": "1fdb42b0-6c15-4dfd-8b83-74c9862875f0",
   "metadata": {
    "tags": []
   },
   "outputs": [],
   "source": [
    "config = {\n",
    "    \"text_columns\": [\"claimReviewed\"],\n",
    "    \"filter_by\": [\"language\"],\n",
    "    \"embedding_model\" : \"paraphrase-multilingual-MiniLM-L12-v2\",\n",
    "    \"umap_model\": {\n",
    "        \"n_neighbors\": 15,\n",
    "        \"n_components\": 5,\n",
    "        \"min_dist\": 0.0,\n",
    "        \"metric\":\"cosine\"\n",
    "    },\n",
    "    \"hdbscan_model\":{\n",
    "        \"min_cluster_size\": 5,\n",
    "        \"metric\": \"euclidean\",\n",
    "        \"cluster_selection_method\": \"eom\",\n",
    "        \"prediction_data\": True\n",
    "    }\n",
    "}"
   ]
  },
  {
   "cell_type": "code",
   "execution_count": 173,
   "id": "b90302ae-6fd6-469d-b300-88234e9994ad",
   "metadata": {
    "tags": []
   },
   "outputs": [],
   "source": [
    "tqdm.pandas()\n",
    "\n",
    "# date_formatter = lambda ax : mdates.ConciseDateFormatter(ax.xaxis.get_major_locator())\n",
    "pd.set_option('max_colwidth',None)\n",
    "pd.set_option('display.max_columns', None)"
   ]
  },
  {
   "cell_type": "code",
   "execution_count": 174,
   "id": "4cde9c94-7098-46d5-a810-825006d638e2",
   "metadata": {
    "tags": []
   },
   "outputs": [],
   "source": [
    "# current_palette = sns.color_palette()\n",
    "# first = current_palette[0]\n",
    "# second = current_palette[1]"
   ]
  },
  {
   "cell_type": "markdown",
   "id": "d72b269b-b44f-4561-94fa-184e5f21f02e",
   "metadata": {
    "tags": []
   },
   "source": [
    "# Helper Functions"
   ]
  },
  {
   "cell_type": "code",
   "execution_count": 175,
   "id": "3305bb35-8f30-42a8-92f1-f141589bab90",
   "metadata": {
    "tags": []
   },
   "outputs": [],
   "source": [
    "def value_counts(series):\n",
    "    \"Compute the count, percentage, and cumulative sum of unique values in a Pandas Series.\"\n",
    "    return pd.concat(\n",
    "        [\n",
    "            series.value_counts().rename(\"count\"),\n",
    "            series.value_counts(normalize=True).rename(\"percentage\"),\n",
    "            series.value_counts(normalize=True).cumsum().rename(\"cumsum\")\n",
    "        ], axis=1\n",
    "    )"
   ]
  },
  {
   "cell_type": "code",
   "execution_count": 176,
   "id": "5f54e246-ae2f-4b7b-86f6-b07877cc916e",
   "metadata": {
    "tags": []
   },
   "outputs": [],
   "source": [
    "def top_k_claims(df,topic,k=3,asc=False):\n",
    "    \"Returns the top k claims for a given topic in a DataFrame, sorted by probability.\"\n",
    "    return df[df.cluster==topic].sort_values(\"probability\",ascending=asc).head(k)"
   ]
  },
  {
   "cell_type": "code",
   "execution_count": 177,
   "id": "a2b12a11-0bb6-4f65-9f38-2fbd54692e21",
   "metadata": {
    "tags": []
   },
   "outputs": [],
   "source": [
    "def topic_summary(topic,sample=2,asc=False):\n",
    "    \"Prints a summary of a topic and displays the top k claims for that topic.\"\n",
    "    print(f\"Topic {topic}: {len(claims[claims.cluster==topic])} articles\")\n",
    "    print(topic_model.get_topic(topic))\n",
    "    display(top_k_claims(claims,topic,sample,asc)[[\"country\",\"claimReviewed_t\"]])"
   ]
  },
  {
   "cell_type": "code",
   "execution_count": 192,
   "id": "7e9bcb5d-2ee8-4d2f-92bb-43b49739530f",
   "metadata": {
    "tags": []
   },
   "outputs": [],
   "source": [
    "def get_config_id(config):\n",
    "    a = json.dumps(config, sort_keys=True)\n",
    "    return hashlib.md5(a.encode(\"utf-8\")).hexdigest()"
   ]
  },
  {
   "cell_type": "markdown",
   "id": "0139c126-f23c-4767-be7d-d0be7953ab1e",
   "metadata": {
    "tags": []
   },
   "source": [
    "# Data"
   ]
  },
  {
   "cell_type": "markdown",
   "id": "8dff39e3-4650-4abe-94b1-92b514c83fb9",
   "metadata": {},
   "source": [
    "\n",
    "<div class=\"alert alert-block alert-info\">\n",
    "Download the parsed claims from https://drive.google.com/file/d/1QlCtKtSwdUX6NWOcUXijmxi4JoSdp49O/view?usp=sharing\n",
    "</div>"
   ]
  },
  {
   "cell_type": "code",
   "execution_count": 179,
   "id": "6b4a59ac-889c-43f9-8e35-261a6c606992",
   "metadata": {
    "tags": []
   },
   "outputs": [],
   "source": [
    "claims = pd.read_json(claims_path)"
   ]
  },
  {
   "cell_type": "code",
   "execution_count": 180,
   "id": "448e1126-973f-4596-ae3d-3ba3d1510f80",
   "metadata": {
    "tags": []
   },
   "outputs": [],
   "source": [
    "claims[\"media\"] = claims.url.apply(lambda x: urlparse(x).hostname)"
   ]
  },
  {
   "cell_type": "markdown",
   "id": "0e8e281c-44e0-4759-83e7-c37f1e98a965",
   "metadata": {},
   "source": [
    "### Filter by language"
   ]
  },
  {
   "cell_type": "markdown",
   "id": "71114302-f472-482d-b2ec-36b5e1ce0aa3",
   "metadata": {},
   "source": [
    "\n",
    "<div class=\"alert alert-block alert-info\">\n",
    "Language ISO list from https://publications.europa.eu/code/en/en-5000800.htm\n",
    "</div>"
   ]
  },
  {
   "cell_type": "code",
   "execution_count": 181,
   "id": "b00d01b4-ca43-4329-aca4-9663cda5c2f1",
   "metadata": {
    "tags": []
   },
   "outputs": [],
   "source": [
    "european_languages = [\"bg\",\"hr\",\"cs\",\"da\",\"nl\",\"en\",\"et\",\"fi\",\"fr\",\"de\",\"el\",\"hu\",\"ga\",\"it\",\"lv\",\"lt\",\"mt\",\"pl\",\"pt\",\"ro\",\"sk\",\"sl\",\"es\",\"sv\"]"
   ]
  },
  {
   "cell_type": "code",
   "execution_count": 182,
   "id": "3ef8dce7-e27f-4e01-94c7-3e34df6290ba",
   "metadata": {
    "tags": []
   },
   "outputs": [],
   "source": [
    "claims = claims[claims.languageISO.apply(lambda x: x in european_languages)]"
   ]
  },
  {
   "cell_type": "markdown",
   "id": "de2fdf28-5f03-43da-81aa-6cd9e1b9a148",
   "metadata": {
    "tags": []
   },
   "source": [
    "### Filter by continent"
   ]
  },
  {
   "cell_type": "markdown",
   "id": "2da68a9a-b43c-4656-96f2-a8790bd71ed7",
   "metadata": {},
   "source": [
    "\n",
    "<div class=\"alert alert-block alert-info\">\n",
    "The library geopandas contains a map of countries and continents. See https://geopandas.org/en/stable/ </div>"
   ]
  },
  {
   "cell_type": "code",
   "execution_count": 183,
   "id": "80de39c6-951d-4745-a089-f293dcdfe20b",
   "metadata": {
    "tags": []
   },
   "outputs": [],
   "source": [
    "world = geopandas.read_file(geopandas.datasets.get_path('naturalearth_lowres'))"
   ]
  },
  {
   "cell_type": "markdown",
   "id": "01b9605a-9b4f-4ec5-aa12-a6e03c0c5c9e",
   "metadata": {},
   "source": [
    "Some media had their country missing. We have compleated it for the media with more fact-checks."
   ]
  },
  {
   "cell_type": "code",
   "execution_count": 184,
   "id": "6fc402d6-6c5f-4368-b156-1e078359bce7",
   "metadata": {
    "tags": []
   },
   "outputs": [],
   "source": [
    "media_country = {\n",
    "    \"politica.estadao.com.br\": \"Brazil\",\n",
    "    \"www.bufale.net\": \"Italy\",\n",
    "    \"www.telugupost.com\": \"India\",\n",
    "    \"www.tf1info.fr\": \"France\",\n",
    "    \"projetocomprova.com.br\": \"Brazil\",\n",
    "    \"www.polygraph.info\": \"United States of America\",\n",
    "    \"srilanka.factcrescendo.com\": \"Sir Lanka\",\n",
    "    \"www.20minutes.fr\": \"France\",\n",
    "    \"verifica.efe.com\": \"Spain\",\n",
    "    \"defacto-observatoire.fr\": \"France\",\n",
    "    \"dpa-factchecking.com\": \"Germany\",\n",
    "    \"www.e-farsas.com\": \"Brazil\",\n",
    "    \"info-veritas.com\": \"Spain\",\n",
    "    \"factcheckgreek.afp.com\": \"Greece\",\n",
    "    \"www1.folha.uol.com.br\":\"Brazil\",\n",
    "    \"www.rtve.es\": \"Spain\"\n",
    "}"
   ]
  },
  {
   "cell_type": "code",
   "execution_count": 185,
   "id": "d2fabf7d-1b4f-4896-b036-09b6569e8b9c",
   "metadata": {
    "tags": []
   },
   "outputs": [],
   "source": [
    "claims[\"country\"] = claims.apply(lambda x: media_country.get(x[\"media\"]) if not x[\"country\"] else x[\"country\"],axis=1)"
   ]
  },
  {
   "cell_type": "code",
   "execution_count": 186,
   "id": "6e1aebfa-64ad-4c0b-bf44-df050d0addf2",
   "metadata": {
    "tags": []
   },
   "outputs": [],
   "source": [
    "countries = {c:world[world.name.str.lower().str.contains(c.lower())].iloc[0][\"iso_a3\"] for c in claims.country.unique() if c and world.name.str.lower().str.contains(c.lower()).any()}"
   ]
  },
  {
   "cell_type": "code",
   "execution_count": 187,
   "id": "63807f9b-1dde-4d92-b3f9-919ba272c561",
   "metadata": {
    "tags": []
   },
   "outputs": [],
   "source": [
    "claims[\"iso_a3\"] = claims.country.map(countries)"
   ]
  },
  {
   "cell_type": "code",
   "execution_count": 188,
   "id": "19004a63-3717-4597-9810-208d353f1900",
   "metadata": {
    "tags": []
   },
   "outputs": [],
   "source": [
    "claims[\"continent\"] = claims.iso_a3.map(world.set_index(\"iso_a3\").continent.to_dict())"
   ]
  },
  {
   "cell_type": "code",
   "execution_count": 19,
   "id": "3e8eaade-969b-49c0-a139-5e4cd141891e",
   "metadata": {
    "tags": []
   },
   "outputs": [],
   "source": [
    "claims = claims[claims[\"continent\"].apply(lambda x: x in [\"Europe\", \"North America\", \"South America\"])]"
   ]
  },
  {
   "cell_type": "markdown",
   "id": "9b4a0328-0322-4263-bfe5-5bcd97c631e8",
   "metadata": {},
   "source": [
    "## EDA"
   ]
  },
  {
   "cell_type": "code",
   "execution_count": 189,
   "id": "ef7b4b7c-37fb-4961-85b3-203080e2dd37",
   "metadata": {
    "tags": []
   },
   "outputs": [
    {
     "data": {
      "text/html": [
       "<div>\n",
       "<style scoped>\n",
       "    .dataframe tbody tr th:only-of-type {\n",
       "        vertical-align: middle;\n",
       "    }\n",
       "\n",
       "    .dataframe tbody tr th {\n",
       "        vertical-align: top;\n",
       "    }\n",
       "\n",
       "    .dataframe thead th {\n",
       "        text-align: right;\n",
       "    }\n",
       "</style>\n",
       "<table border=\"1\" class=\"dataframe\">\n",
       "  <thead>\n",
       "    <tr style=\"text-align: right;\">\n",
       "      <th></th>\n",
       "      <th>count</th>\n",
       "      <th>percentage</th>\n",
       "      <th>cumsum</th>\n",
       "    </tr>\n",
       "  </thead>\n",
       "  <tbody>\n",
       "    <tr>\n",
       "      <th>en</th>\n",
       "      <td>6849</td>\n",
       "      <td>0.492415</td>\n",
       "      <td>0.492415</td>\n",
       "    </tr>\n",
       "    <tr>\n",
       "      <th>pt</th>\n",
       "      <td>2815</td>\n",
       "      <td>0.202387</td>\n",
       "      <td>0.694802</td>\n",
       "    </tr>\n",
       "    <tr>\n",
       "      <th>es</th>\n",
       "      <td>1487</td>\n",
       "      <td>0.106909</td>\n",
       "      <td>0.801711</td>\n",
       "    </tr>\n",
       "    <tr>\n",
       "      <th>fr</th>\n",
       "      <td>634</td>\n",
       "      <td>0.045582</td>\n",
       "      <td>0.847293</td>\n",
       "    </tr>\n",
       "    <tr>\n",
       "      <th>it</th>\n",
       "      <td>629</td>\n",
       "      <td>0.045223</td>\n",
       "      <td>0.892516</td>\n",
       "    </tr>\n",
       "  </tbody>\n",
       "</table>\n",
       "</div>"
      ],
      "text/plain": [
       "    count  percentage    cumsum\n",
       "en   6849    0.492415  0.492415\n",
       "pt   2815    0.202387  0.694802\n",
       "es   1487    0.106909  0.801711\n",
       "fr    634    0.045582  0.847293\n",
       "it    629    0.045223  0.892516"
      ]
     },
     "execution_count": 189,
     "metadata": {},
     "output_type": "execute_result"
    }
   ],
   "source": [
    "language_count = value_counts(claims.languageISO)\n",
    "language_count.head(5)"
   ]
  },
  {
   "cell_type": "markdown",
   "id": "fd4f5a46-8361-4aff-a25e-76e3a2cb33f9",
   "metadata": {
    "tags": []
   },
   "source": [
    "# BERTOPIC"
   ]
  },
  {
   "cell_type": "markdown",
   "id": "5993be99-9786-4cdb-b91e-4eabf37662eb",
   "metadata": {},
   "source": [
    "## Model using scrape article"
   ]
  },
  {
   "cell_type": "code",
   "execution_count": 191,
   "id": "0e41036b-9c24-4324-95f8-e5ee3a66bd4b",
   "metadata": {
    "tags": []
   },
   "outputs": [],
   "source": [
    "text_columns = [\"claimReviewed\"]\n",
    "embeddings = None"
   ]
  },
  {
   "cell_type": "code",
   "execution_count": 195,
   "id": "e3371fc5-d11e-4580-87c4-89e0605888bc",
   "metadata": {
    "tags": []
   },
   "outputs": [],
   "source": [
    "def infer_topic(df,config,save_dir = \"topic_runs\"):\n",
    "    global embeddings,text_columns\n",
    "\n",
    "    docs = df[text_columns].apply(lambda x: '. '.join(x.values),axis=1)\n",
    "\n",
    "    # If there are no embeddings or we change the text columns\n",
    "    if embeddings is None or config[\"text_columns\"]!=text_columns:\n",
    "        text_columns = config[\"text_columns\"]\n",
    "        docs = df[text_columns].apply(lambda x: '. '.join(x.values),axis=1)\n",
    "\n",
    "        sentence_model = SentenceTransformer(config[\"embedding_model\"])\n",
    "        embeddings = sentence_model.encode(docs, show_progress_bar=True)\n",
    "\n",
    "    # Setup run\n",
    "    topic_model = BERTopic(\n",
    "        umap_model=UMAP(**config[\"umap_model\"]),\n",
    "        hdbscan_model=HDBSCAN(**config[\"hdbscan_model\"]),\n",
    "        ctfidf_model=ClassTfidfTransformer(reduce_frequent_words=True),\n",
    "        verbose=True\n",
    "    )\n",
    "\n",
    "    # Infer topic models\n",
    "    topics, probs = topic_model.fit_transform(docs,embeddings)\n",
    "    claims[\"cluster\"] = topics\n",
    "    claims[\"probability\"] = probs\n",
    "    topics_df = pd.DataFrame({\n",
    "        \"cluster\": topics,\n",
    "        \"probability\": probs\n",
    "    },index=claims.index)\n",
    "\n",
    "    # Save Results\n",
    "    save_path = f\"{save_dir}/{get_config_id(config)}\"\n",
    "    # Overwrite\n",
    "    if os.path.exists(save_path):\n",
    "        shutil.rmtree(save_path)\n",
    "    os.makedirs(save_path)\n",
    "    with open(f\"{save_path}/config.json\", \"w\") as f:\n",
    "        json.dump(config, f)\n",
    "    topics_df.to_json(f\"{save_path}/topics_df.json\")\n",
    "    topic_model.save(f\"{save_path}/model\")\n",
    "\n",
    "    return topic_model, topics_df, docs"
   ]
  },
  {
   "cell_type": "code",
   "execution_count": 196,
   "id": "29fccd75-b36b-4b9c-8003-42cfdb0a4c85",
   "metadata": {
    "tags": []
   },
   "outputs": [
    {
     "data": {
      "application/vnd.jupyter.widget-view+json": {
       "model_id": "e71966d413254be98c1626141c62ec6d",
       "version_major": 2,
       "version_minor": 0
      },
      "text/plain": [
       "Batches:   0%|          | 0/435 [00:00<?, ?it/s]"
      ]
     },
     "metadata": {},
     "output_type": "display_data"
    },
    {
     "name": "stderr",
     "output_type": "stream",
     "text": [
      "2023-03-28 12:20:40,545 - BERTopic - Reduced dimensionality\n",
      "2023-03-28 12:20:41,013 - BERTopic - Clustered reduced embeddings\n"
     ]
    }
   ],
   "source": [
    "topic_model, topics_df, docs = infer_topic(claims,config)\n",
    "claims[\"cluster\"] = topics_df[\"cluster\"]\n",
    "claims[\"probability\"] = topics_df[\"probability\"]"
   ]
  },
  {
   "cell_type": "markdown",
   "id": "57519df1-681b-4fe4-b43a-0cdb1709cc75",
   "metadata": {},
   "source": [
    "Query any term to find which topics have it in their documents"
   ]
  },
  {
   "cell_type": "code",
   "execution_count": 240,
   "id": "ac5d579c-3657-42ed-9894-f1bd49ff8bca",
   "metadata": {
    "tags": []
   },
   "outputs": [
    {
     "data": {
      "text/html": [
       "<div>\n",
       "<style scoped>\n",
       "    .dataframe tbody tr th:only-of-type {\n",
       "        vertical-align: middle;\n",
       "    }\n",
       "\n",
       "    .dataframe tbody tr th {\n",
       "        vertical-align: top;\n",
       "    }\n",
       "\n",
       "    .dataframe thead th {\n",
       "        text-align: right;\n",
       "    }\n",
       "</style>\n",
       "<table border=\"1\" class=\"dataframe\">\n",
       "  <thead>\n",
       "    <tr style=\"text-align: right;\">\n",
       "      <th></th>\n",
       "      <th>count</th>\n",
       "      <th>percentage</th>\n",
       "      <th>cumsum</th>\n",
       "    </tr>\n",
       "  </thead>\n",
       "  <tbody>\n",
       "    <tr>\n",
       "      <th>140</th>\n",
       "      <td>4</td>\n",
       "      <td>0.333333</td>\n",
       "      <td>0.333333</td>\n",
       "    </tr>\n",
       "    <tr>\n",
       "      <th>-1</th>\n",
       "      <td>3</td>\n",
       "      <td>0.250000</td>\n",
       "      <td>0.583333</td>\n",
       "    </tr>\n",
       "    <tr>\n",
       "      <th>201</th>\n",
       "      <td>2</td>\n",
       "      <td>0.166667</td>\n",
       "      <td>0.750000</td>\n",
       "    </tr>\n",
       "    <tr>\n",
       "      <th>141</th>\n",
       "      <td>2</td>\n",
       "      <td>0.166667</td>\n",
       "      <td>0.916667</td>\n",
       "    </tr>\n",
       "    <tr>\n",
       "      <th>47</th>\n",
       "      <td>1</td>\n",
       "      <td>0.083333</td>\n",
       "      <td>1.000000</td>\n",
       "    </tr>\n",
       "  </tbody>\n",
       "</table>\n",
       "</div>"
      ],
      "text/plain": [
       "      count  percentage    cumsum\n",
       " 140      4    0.333333  0.333333\n",
       "-1        3    0.250000  0.583333\n",
       " 201      2    0.166667  0.750000\n",
       " 141      2    0.166667  0.916667\n",
       " 47       1    0.083333  1.000000"
      ]
     },
     "execution_count": 240,
     "metadata": {},
     "output_type": "execute_result"
    }
   ],
   "source": [
    "query = \"zelenski\"\n",
    "condition = claims.claimReviewed_t.str.lower().str.contains(query)\n",
    "value_counts(claims[condition].cluster)"
   ]
  },
  {
   "cell_type": "markdown",
   "id": "3c683ff3-20fb-43e4-8f85-ff090f921685",
   "metadata": {},
   "source": [
    "Summary of a topic"
   ]
  },
  {
   "cell_type": "code",
   "execution_count": 241,
   "id": "19a8c56a-50ee-4b1c-b7a6-e2a46fd78b95",
   "metadata": {
    "tags": []
   },
   "outputs": [
    {
     "name": "stdout",
     "output_type": "stream",
     "text": [
      "Topic 140: 19 articles\n",
      "[('volodimir', 0.5128774243662303), ('rueda', 0.5056073638814902), ('zelenski', 0.4762470728256101), ('butt', 0.4671000312853512), ('mientras', 0.4398478776702831), ('abandona', 0.4398478776702831), ('prensa', 0.4398478776702831), ('volodymyr', 0.43082447516251055), ('elnki', 0.40418651582345316), ('ongepast', 0.40418651582345316)]\n"
     ]
    },
    {
     "data": {
      "text/html": [
       "<div>\n",
       "<style scoped>\n",
       "    .dataframe tbody tr th:only-of-type {\n",
       "        vertical-align: middle;\n",
       "    }\n",
       "\n",
       "    .dataframe tbody tr th {\n",
       "        vertical-align: top;\n",
       "    }\n",
       "\n",
       "    .dataframe thead th {\n",
       "        text-align: right;\n",
       "    }\n",
       "</style>\n",
       "<table border=\"1\" class=\"dataframe\">\n",
       "  <thead>\n",
       "    <tr style=\"text-align: right;\">\n",
       "      <th></th>\n",
       "      <th>country</th>\n",
       "      <th>claimReviewed_t</th>\n",
       "    </tr>\n",
       "  </thead>\n",
       "  <tbody>\n",
       "    <tr>\n",
       "      <th>63ab8d3fee23070012696282</th>\n",
       "      <td>France</td>\n",
       "      <td>Joe Biden \"se fue\" en medio del discurso de Volodymyr Zelensky</td>\n",
       "    </tr>\n",
       "    <tr>\n",
       "      <th>63a9bb45dc86e20012051542</th>\n",
       "      <td>Italy</td>\n",
       "      <td>Biden toca el trasero de Zelensky</td>\n",
       "    </tr>\n",
       "    <tr>\n",
       "      <th>63bffb24309cf700130b4b4a</th>\n",
       "      <td>None</td>\n",
       "      <td>Joe Biden agarró el trasero de Volodymyr Zelensky durante la visita presidencial</td>\n",
       "    </tr>\n",
       "    <tr>\n",
       "      <th>63e0489cd3957e00129e3b45</th>\n",
       "      <td>None</td>\n",
       "      <td>Joe Biden tocó a Zelensky de manera inapropiada</td>\n",
       "    </tr>\n",
       "    <tr>\n",
       "      <th>63a5f0c68ac0140012b343af</th>\n",
       "      <td>Spain</td>\n",
       "      <td>Joe Biden le toca el culo a Zelenski durante su viaje a Estados Unidos</td>\n",
       "    </tr>\n",
       "  </tbody>\n",
       "</table>\n",
       "</div>"
      ],
      "text/plain": [
       "                         country  \\\n",
       "63ab8d3fee23070012696282  France   \n",
       "63a9bb45dc86e20012051542   Italy   \n",
       "63bffb24309cf700130b4b4a    None   \n",
       "63e0489cd3957e00129e3b45    None   \n",
       "63a5f0c68ac0140012b343af   Spain   \n",
       "\n",
       "                                                                                           claimReviewed_t  \n",
       "63ab8d3fee23070012696282                    Joe Biden \"se fue\" en medio del discurso de Volodymyr Zelensky  \n",
       "63a9bb45dc86e20012051542                                                 Biden toca el trasero de Zelensky  \n",
       "63bffb24309cf700130b4b4a  Joe Biden agarró el trasero de Volodymyr Zelensky durante la visita presidencial  \n",
       "63e0489cd3957e00129e3b45                                   Joe Biden tocó a Zelensky de manera inapropiada  \n",
       "63a5f0c68ac0140012b343af            Joe Biden le toca el culo a Zelenski durante su viaje a Estados Unidos  "
      ]
     },
     "metadata": {},
     "output_type": "display_data"
    }
   ],
   "source": [
    "topic_summary(140,5)"
   ]
  }
 ],
 "metadata": {
  "kernelspec": {
   "display_name": "Python 3 (ipykernel)",
   "language": "python",
   "name": "python3"
  },
  "language_info": {
   "codemirror_mode": {
    "name": "ipython",
    "version": 3
   },
   "file_extension": ".py",
   "mimetype": "text/x-python",
   "name": "python",
   "nbconvert_exporter": "python",
   "pygments_lexer": "ipython3",
   "version": "3.10.6"
  }
 },
 "nbformat": 4,
 "nbformat_minor": 5
}
