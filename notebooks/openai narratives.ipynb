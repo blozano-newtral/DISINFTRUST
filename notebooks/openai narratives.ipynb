{
 "cells": [
  {
   "cell_type": "code",
   "execution_count": 92,
   "id": "ff2e808b-b4b8-4186-8618-54c8532a7c2e",
   "metadata": {
    "tags": []
   },
   "outputs": [],
   "source": [
    "import os\n",
    "import time\n",
    "import openai"
   ]
  },
  {
   "cell_type": "code",
   "execution_count": 39,
   "id": "b7b891a4-9a6f-4a61-90ee-f54bf8e45e69",
   "metadata": {
    "tags": []
   },
   "outputs": [],
   "source": [
    "API_KEY_PATH = \"/home/borjalozano/.openai_lozanoalvarezb_key\"\n",
    "with open(os.path.expanduser(API_KEY_PATH),'r') as file:\n",
    "    API_KEY=file.read()\n",
    "\n",
    "# openai.organization = \"org-04VXSUT9JoL0BiDAs1kMZ9PN\"\n",
    "openai.api_key = API_KEY"
   ]
  },
  {
   "cell_type": "code",
   "execution_count": 40,
   "id": "e8e350d6-9d7b-43af-86a7-1543b661b5de",
   "metadata": {
    "tags": []
   },
   "outputs": [],
   "source": [
    "# Test authentication\n",
    "models = openai.Model.list()[\"data\"]"
   ]
  },
  {
   "cell_type": "code",
   "execution_count": 22,
   "id": "51dbdb41-f7e0-48e3-8372-1887634070ff",
   "metadata": {
    "tags": []
   },
   "outputs": [
    {
     "data": {
      "text/plain": [
       "<OpenAIObject text_completion id=cmpl-6yiVczf1jLUsqre3UG7pGHA8ShGhc at 0x7fd21ecf93a0> JSON: {\n",
       "  \"choices\": [\n",
       "    {\n",
       "      \"finish_reason\": \"length\",\n",
       "      \"index\": 0,\n",
       "      \"logprobs\": null,\n",
       "      \"text\": \"\\n\\nThis is indeed a test\"\n",
       "    }\n",
       "  ],\n",
       "  \"created\": 1679928792,\n",
       "  \"id\": \"cmpl-6yiVczf1jLUsqre3UG7pGHA8ShGhc\",\n",
       "  \"model\": \"text-davinci-003\",\n",
       "  \"object\": \"text_completion\",\n",
       "  \"usage\": {\n",
       "    \"completion_tokens\": 7,\n",
       "    \"prompt_tokens\": 5,\n",
       "    \"total_tokens\": 12\n",
       "  }\n",
       "}"
      ]
     },
     "execution_count": 22,
     "metadata": {},
     "output_type": "execute_result"
    }
   ],
   "source": [
    "openai.Completion.create(\n",
    "  model=\"text-davinci-003\",\n",
    "  prompt=\"Say this is a test\",\n",
    "  max_tokens=7,\n",
    "  temperature=0\n",
    ")"
   ]
  },
  {
   "cell_type": "code",
   "execution_count": 18,
   "id": "1a05a282-af46-41c9-961b-8dc3b07fce2a",
   "metadata": {
    "tags": []
   },
   "outputs": [],
   "source": [
    "response = openai.Embedding.create(\n",
    "    input=\"Your text string goes here\",\n",
    "    model=\"text-embedding-ada-002\"\n",
    ")\n",
    "embeddings = response['data'][0]['embedding']"
   ]
  },
  {
   "cell_type": "markdown",
   "id": "f4eac38d-2e7a-48e3-94cf-2ac6f4d86517",
   "metadata": {},
   "source": [
    "# Exploring topics using OpenAI-GPT"
   ]
  },
  {
   "cell_type": "code",
   "execution_count": 85,
   "id": "cabc413f-4fe4-4b33-b224-7a10b0705073",
   "metadata": {
    "tags": []
   },
   "outputs": [],
   "source": [
    "import pandas as pd\n",
    "from tqdm import tqdm\n",
    "pd.set_option('max_colwidth',None)\n",
    "pd.set_option('display.max_columns', None)"
   ]
  },
  {
   "cell_type": "markdown",
   "id": "006629c1-148f-4b9c-881e-fcfb21fb62b7",
   "metadata": {},
   "source": [
    "\n",
    "<div class=\"alert alert-block alert-info\">\n",
    "Download the parsed claims from https://drive.google.com/file/d/1QlCtKtSwdUX6NWOcUXijmxi4JoSdp49O/view?usp=sharing\n",
    "</div>"
   ]
  },
  {
   "cell_type": "code",
   "execution_count": 3,
   "id": "c7cb02e0-4c58-45c2-b4e8-4942e1f90fb0",
   "metadata": {
    "tags": []
   },
   "outputs": [],
   "source": [
    "claims_path = \"../claims_parse_urls-6m-hard_clean.json\""
   ]
  },
  {
   "cell_type": "code",
   "execution_count": 4,
   "id": "381f6da5-42f3-49d8-88c3-c701c3ff6130",
   "metadata": {
    "tags": []
   },
   "outputs": [],
   "source": [
    "claims = pd.read_json(claims_path)"
   ]
  },
  {
   "cell_type": "code",
   "execution_count": 125,
   "id": "1d0f67fe-4889-4996-863c-555b8644fb68",
   "metadata": {
    "tags": []
   },
   "outputs": [],
   "source": [
    "config_id = \"3f7502f069c028e2e9bb764130bb2c9f\"\n",
    "topics_path = f\"topic_runs/{config_id}/topics_df.json\""
   ]
  },
  {
   "cell_type": "code",
   "execution_count": 9,
   "id": "6bfffbb2-4dd5-4451-87ef-a7796a8435b1",
   "metadata": {
    "tags": []
   },
   "outputs": [],
   "source": [
    "topics_df = pd.read_json(topics_path)"
   ]
  },
  {
   "cell_type": "code",
   "execution_count": 11,
   "id": "13546fd4-7cf6-4e50-a64b-9f01d68f2551",
   "metadata": {
    "tags": []
   },
   "outputs": [],
   "source": [
    "claims = topics_df.join(claims)"
   ]
  },
  {
   "cell_type": "code",
   "execution_count": 69,
   "id": "3312c833-c5f9-464f-9c5d-6da29e6e4fab",
   "metadata": {
    "tags": []
   },
   "outputs": [],
   "source": [
    "fakes = claims[claims.cluster == 297].sort_values(\"probability\",ascending=False)[\"claimReviewed_t\"].head(5).values\n",
    "prompt = \" \\n\".join(fakes)\n",
    "\n",
    "response = openai.ChatCompletion.create(\n",
    "    model=\"gpt-3.5-turbo\",\n",
    "    messages=[\n",
    "      {\"role\": \"user\", \"content\": \"Eres un Senior Data Scientist que aplica sus conocimientos para combatir la desinformación. Trabajas en un estudio sobre como esta se propaga. Sostienes una hipótesis: en ocasiones las mentiras aparecen en distintos sitios, adaptadas al contexto local. Defines la información común entre estos bulos como narrativa. Estas encargado de sintetizar varios bulos en una frase. Dicha frase ha de contenter la narrativa compartida entre todos los bulos. Es imprescindible que la frase contenga únicamente información que este presente en la mayoría de los bulos. Los bulos son: \"},\n",
    "      {\"role\": \"user\", \"content\": prompt}\n",
    "    ],\n",
    "    max_tokens=200,\n",
    "    temperature=0.2\n",
    ")"
   ]
  },
  {
   "cell_type": "code",
   "execution_count": 91,
   "id": "ce911b0f-498a-4439-93ff-83a105cb3568",
   "metadata": {
    "tags": []
   },
   "outputs": [],
   "source": [
    "narratives = {}"
   ]
  },
  {
   "cell_type": "code",
   "execution_count": 106,
   "id": "1f26c1cb-93ed-4de9-a098-b68403fff4da",
   "metadata": {
    "tags": []
   },
   "outputs": [
    {
     "name": "stdout",
     "output_type": "stream",
     "text": [
      "471: La frase que contiene la narrativa compartida entre todos los bulos es: \"Esta galleta acaba de llegar a Brasil. Viene con 2 pastillas adentro que causan parálisis\".\n",
      "\n",
      "137: Narrativa compartida: Oxford aprueba un plan de prueba de 'bloqueo climático' para reducir las emisiones de carbono en 2024.\n",
      "\n",
      "Frase sintetizada: Oxford aprueba plan de prueba de 'bloqueo climático' para reducir emisiones de carbono en 2024.\n",
      "\n",
      "353: La narrativa compartida entre estos bulos es la presencia de asesinos en serie en diferentes ciudades de Estados Unidos. Por lo tanto, la frase que sintetiza esta narrativa podría ser: \"Varios asesinos en serie están activos en diferentes ciudades de Estados Unidos\".\n",
      "\n",
      "274: Narrativa: Residentes de Moldavia bloquean la entrada de una columna de equipos militares de la OTAN.\n",
      "\n",
      "236: NONE. No hay información común entre los bulos que permita definir una narrativa compartida.\n",
      "\n",
      "146: La narrativa compartida entre estos bulos es que Lula obtuvo una cantidad de votos significativamente alta en una ciudad o municipio con una población mucho menor.\n",
      "\n",
      "206: Narrativa compartida: Imagen de Vande Bharat Express dañado.\n",
      "\n",
      "Frase sintetizada: Vande Bharat Express aparece dañado en las imágenes.\n",
      "\n",
      "91: NONE. No hay suficiente información compartida entre los bulos para definir una narrativa.\n",
      "\n",
      "440: La narrativa compartida entre todos los bulos es que Lula planea cerrar o perseguir iglesias.\n",
      "\n",
      "441: La narrativa compartida entre los bulos es \"inmigrantes venezolanos\".\n",
      "\n",
      "168: NONE. No hay suficiente información compartida entre los bulos para definir una narrativa.\n",
      "\n",
      "235: La narrativa compartida entre los bulos es que hay fotografías que muestran a Michelle Obama con rasgos masculinos y/o bigote.\n",
      "\n",
      "322: La narrativa compartida entre estos bulos es \"protesta en Irán contra el uso del hiyab y la participación de mujeres en topless\".\n",
      "\n",
      "150: Narrativa: Irán ha condenado a muerte a 15.000 manifestantes.\n",
      "\n",
      "214: NONE.\n",
      "\n",
      "203: NONE. No hay suficiente información compartida entre los bulos para definir una narrativa.\n",
      "\n",
      "341: NONE. Los bulos no comparten suficiente información para definir una narrativa.\n",
      "\n",
      "133: La narrativa compartida entre los bulos es \"Graffitis con Zelensky\".\n",
      "\n",
      "466: NONE. No hay suficiente información compartida entre los bulos para definir una narrativa.\n",
      "\n",
      "332: NONE. No hay suficiente información compartida entre los bulos para definir una narrativa.\n",
      "\n",
      "244: NONE.\n",
      "\n",
      "202: Narrativa: El aeropuerto de Arunachal Pradesh es recién construido y está hecho de bambú. \n",
      "\n",
      "Frase sintetizada: El nuevo aeropuerto de Arunachal Pradesh está construido con bambú.\n",
      "\n",
      "291: NONE.\n",
      "\n",
      "461: NONE.\n",
      "\n",
      "365: NONE. No hay suficiente información compartida entre los bulos para definir una narrativa.\n",
      "\n",
      "392: Narrativa compartida: Padre e hija en un rickshaw. \n",
      "\n",
      "Frase sintetizada: \"Padre e hija en un rickshaw\".\n",
      "\n",
      "103: La narrativa compartida entre los bulos es que el reportero de la BBC, Jeremy Bowen, fingió estar en una zona de guerra en Ucrania mientras una mujer llevaba sus compras en el fondo.\n",
      "\n",
      "238: La vacuna del COVID-19 de Pfizer causa el síndrome de la persona rígida en Celine Dion y posiblemente también en Britney Spears.\n",
      "\n",
      "468: NONE. No hay suficiente información compartida entre los bulos para definir una narrativa.\n",
      "\n",
      "254: NONE. Los bulos no comparten suficiente información para definir una narrativa.\n",
      "\n",
      "435: La familia Marcos está involucrada en la creación de un fondo de inversión llamado Fondo de Inversión Maharlika, que se convertiría en el primer fondo de riqueza soberana de Filipinas.\n",
      "\n",
      "277: NONE. No hay suficiente información compartida entre los bulos para definir una narrativa.\n",
      "\n",
      "476: NONE. No hay suficiente información compartida entre los bulos para definir una narrativa.\n",
      "\n",
      "201: Narrativa: Volodymyr Zelenskyy/Zelensky ha publicado un libro con el mismo título que \"Mein Kampf\" de Hitler.\n",
      "\n",
      "Nota: La información compartida entre los bulos es la publicación de un libro con el mismo título que \"Mein Kampf\" de Hitler, por lo que la narrativa se centra en este hecho.\n",
      "\n",
      "223: La narrativa compartida entre los bulos es que Lula promete crear la Guardia Nacional.\n",
      "\n",
      "219: Narrativa: Niño o niña es levantado/a por una cometa en Ahmedabad.\n",
      "\n",
      "Frase: \"Niño o niña es levantado/a por una cometa en Ahmedabad.\"\n",
      "\n",
      "253: La narrativa compartida entre todos los bulos es la celebración de la victoria de Lula y el uso de armas de fuego en dicha celebración. La frase podría ser: \"Varios videos muestran celebraciones con disparos de armas de fuego tras la victoria de Lula en las elecciones.\"\n",
      "\n",
      "336: La narrativa compartida entre todos los bulos es que Valery Zaluzhny, Comandante o Jefe de las Fuerzas Armadas de Ucrania, lleva un brazalete con una esvástica.\n",
      "\n",
      "455: Narrativa compartida: Cartoon Network está cerrando o cerrará pronto.\n",
      "\n",
      "Frase sintetizada: Cartoon Network está cerrando o cerrará pronto.\n",
      "\n",
      "260: NONE.\n",
      "\n",
      "303: NONE. No hay información común entre estos bulos que permita definir una narrativa compartida.\n",
      "\n",
      "258: La muerte del investigador sueco Erik Ollsen, relacionado con el caso de Nord Stream.\n",
      "\n",
      "138: NONE. No hay suficiente información compartida entre los bulos para definir una narrativa.\n",
      "\n",
      "199: La narrativa compartida entre los bulos es que Francia se lleva el 50% de las exportaciones de un grupo de países africanos que utilizan el franco CFA como moneda.\n",
      "\n",
      "185: La narrativa compartida entre los bulos es que los huevos están relacionados con la formación de coágulos de sangre en las personas. Por lo tanto, la frase que los sintetiza podría ser: \"Los huevos están relacionados con la formación de coágulos de sangre en las personas\".\n",
      "\n",
      "215: NONE. No hay suficiente información compartida entre los bulos para definir una narrativa.\n",
      "\n",
      "465: NONE. No hay información común entre estos bulos que permita definir una narrativa compartida.\n",
      "\n",
      "340: NONE. Los bulos presentan información contradictoria y no comparten suficiente información para definir una narrativa común.\n",
      "\n",
      "437: La infraestructura vial en Uttarakhand está en mal estado.\n",
      "\n",
      "482: NONE. No hay suficiente información compartida entre los bulos para definir una narrativa.\n",
      "\n",
      "329: NONE. No hay información común entre estos bulos que permita definir una narrativa compartida.\n",
      "\n",
      "469: La narrativa compartida entre los bulos es que hubo un aterrizaje fallido de paracaidistas militares de Uganda durante las celebraciones del Día de la Independencia.\n",
      "\n",
      "436: La narrativa compartida entre todos los bulos es que Lula cree que el papel de los pobres es esperar políticas de ayuda del gobierno.\n",
      "\n",
      "409: La narrativa compartida entre todos los bulos es que existe una bebida o mezcla de ingredientes que puede ayudar a quemar la grasa abdominal y perder peso en un corto período de tiempo.\n",
      "\n",
      "474: La narrativa compartida entre los bulos es que hay una supuesta redefinición de la definición de \"mujer\" que incluye a personas que se identifican como tal, independientemente de su sexo biológico.\n",
      "\n",
      "242: Narrativa compartida: Narendra Modi se afeitó la cabeza después de la muerte de su madre Heeraben.\n",
      "\n",
      "358: NONE. No hay suficiente información compartida entre los bulos para definir una narrativa.\n",
      "\n",
      "225: La narrativa compartida entre los bulos es \"las vacunas contra la gripe y el Covid están relacionadas y pueden tener efectos secundarios negativos\".\n",
      "\n",
      "24: NONE. Los bulos no comparten suficiente información para definir una narrativa.\n",
      "\n",
      "381: NONE. No hay suficiente información compartida entre los bulos para definir una narrativa.\n",
      "\n",
      "285: La narrativa compartida entre los bulos es la relación entre Gerard Piqué y Shakira.\n",
      "\n",
      "355: La narrativa compartida entre estos bulos es que el gobierno alemán está ofreciendo programas de ayuda y alojamiento a los refugiados ucranianos y solicitantes de asilo, financiados con dinero de los impuestos alemanes.\n",
      "\n",
      "406: La narrativa compartida entre todos los bulos es la presencia de una animación o película animada con un cerdo producida o transmitida por la televisión israelí. \n",
      "\n",
      "Frase sintetizada: \"Una animación o película animada con un cerdo producida o transmitida por la televisión israelí.\"\n",
      "\n",
      "480: La narrativa compartida entre estos bulos es que JP Nadda comparó al gobierno del BJP con violadores.\n",
      "\n",
      "335: NONE. No hay suficiente información compartida entre los bulos para definir una narrativa.\n",
      "\n",
      "318: La narrativa compartida entre los bulos es que Lula da Silva es el protagonista y se encuentra en el centro de la atención pública. NONE.\n",
      "\n",
      "245: Narrativa: El ex CEO de Twitter, Parag Agrawal, ha sido arrestado por posesión o distribución de pornografía infantil.\n",
      "\n",
      "Nota: Es importante mencionar que la información sobre la distribución no está presente en todos los bulos, pero sí en la mayoría de ellos. Por lo tanto, se incluye en la narrativa compartida.\n",
      "\n",
      "387: NONE.\n",
      "\n",
      "408: NONE. No hay suficiente información compartida entre los bulos para definir una narrativa.\n",
      "\n",
      "430: La narrativa compartida entre los bulos es: \"Las calabazas de Halloween usadas se pueden donar a la vida silvestre, para lo cual 'son buenas'\".\n",
      "\n",
      "356: NONE. No hay suficiente información compartida entre los bulos para definir una narrativa.\n",
      "\n",
      "371: La narrativa compartida entre estos bulos es la presencia de caricaturas satíricas que critican a figuras políticas o grupos sociales, publicadas en revistas europeas.\n",
      "\n",
      "233: NONE. No hay suficiente información compartida entre los bulos para definir una narrativa.\n",
      "\n",
      "386: Narrativa: Bill Gates promueve el uso de vacunas en la alimentación.\n",
      "\n",
      "475: NONE.\n",
      "\n",
      "204: NONE. No hay suficiente información compartida entre los bulos para definir una narrativa.\n",
      "\n",
      "467: NONE. No hay suficiente información compartida entre los bulos para definir una narrativa común.\n",
      "\n",
      "372: Narrativa: Elon Musk compra Twitter y Donald Trump vuelve a la plataforma. \n",
      "\n",
      "Frase: \"Elon Musk adquiere Twitter y Donald Trump regresa a la plataforma de redes sociales\".\n",
      "\n",
      "183: La narrativa compartida entre todos los bulos es que Imran Khan ha sido víctima de un intento de asesinato y está siendo tratado en un hospital.\n",
      "\n",
      "87: La narrativa compartida entre estos bulos es que durante el gobierno de Lula se implementaron políticas que aumentaron los subsidios y los costos de algunos servicios, como el gas para cocinar. Además, se menciona que Lula aceptó la decisión de los banqueros de gravar el sistema PIX. Por lo tanto, la frase que sintetiza esta narrativa podría ser: \"Durante el gobierno de Lula se implementaron políticas que aumentaron los subsidios y los costos de algunos servicios, y se aceptó la decisión de los banqueros de gravar el sistema PIX\".\n",
      "\n",
      "477: La narrativa compartida entre estos bulos es que la plata coloidal es efectiva para tratar infecciones respiratorias y otras infecciones. La frase sintetizada podría ser: \"La plata coloidal es un tratamiento efectivo para infecciones respiratorias y otras infecciones\".\n",
      "\n",
      "156: NONE\n",
      "\n",
      "22: Narrativa compartida: Cristiano Ronaldo marcó su primer gol con el Al-Nassr.\n",
      "\n",
      "Frase sintetizada: El primer gol de Cristiano Ronaldo con el Al-Nassr.\n",
      "\n",
      "352: Narrativa compartida: Elon Musk despide a Vijaya Gadde en el aire. \n",
      "\n",
      "Frase sintetizada: Elon Musk despide a Vijaya Gadde en vivo durante un show y toma control de Twitter.\n",
      "\n",
      "164: La detención de Greta Thunberg en Alemania fue un montaje preparado para las cámaras.\n",
      "\n",
      "348: La narrativa compartida entre todos los bulos es que la Corte Suprema de Nueva York ha ordenado o ha llevado a cabo la reincorporación de los trabajadores despedidos por no estar vacunados. \n",
      "\n",
      "Frase sintetizada: La Corte Suprema de Nueva York ha reintegrado a los trabajadores despedidos por no estar vacunados.\n",
      "\n",
      "300: Narrativa: Gerald Bantag ha sido reinstalado como jefe de la Oficina de Correcciones.\n",
      "\n",
      "243: La narrativa compartida entre todos los bulos es que la subvariante XBB de Omicron es más transmisible, más letal y tiene síntomas diferentes a otras subvariantes, y que tiene una tasa de mortalidad más alta que la variante Delta. Por lo tanto, la frase que sintetiza estos bulos podría ser: \"La subvariante XBB de Omicron es altamente transmisible, más letal que la variante Delta y tiene síntomas diferentes a otras subvariantes\".\n",
      "\n",
      "473: NONE\n",
      "\n",
      "417: Narrativa compartida: Pelea en un tribunal de Maharashtra entre un juez y un abogado/abogada. \n",
      "\n",
      "Frase sintetizada: Pelea entre un juez y un abogado/abogada en un tribunal de Maharashtra.\n",
      "\n",
      "449: NONE. No hay suficiente información compartida entre los bulos para definir una narrativa.\n",
      "\n",
      "294: Narrativa: Didier Drogba se ha convertido al Islam.\n",
      "\n",
      "39: Narrativa: Derrumbe de edificios durante el terremoto en Turquía el 6 de febrero. \n",
      "\n",
      "Frase: Varios edificios se derrumbaron durante el terremoto en Turquía el 6 de febrero.\n",
      "\n",
      "425: La narrativa compartida entre todos los bulos es que hay una congestión de barcos debido a bloqueos o parálisis en el comercio marítimo en diferentes lugares, como Brasil y Catania. La frase sintetizada podría ser: \"Congestión de barcos debido a bloqueos y parálisis en el comercio marítimo en diferentes lugares\".\n",
      "\n",
      "313: Narrativa compartida: Un niño entrega a Joe Biden un frasco/tubo con sangre. \n",
      "\n",
      "Frase sintetizada: \"Varios bulos afirman que un niño entregó a Joe Biden un frasco/tubo con sangre.\"\n",
      "\n",
      "334: NONE.\n",
      "\n",
      "457: La narrativa compartida entre los bulos es que un parlamentario hindú está pidiendo clemencia en el parlamento de Pakistán.\n",
      "\n",
      "343: La narrativa compartida entre todos los bulos es que Bill Gates habría pedido la introducción de \"paneles de la muerte\" en la cumbre del G20.\n",
      "\n",
      "153: La narrativa compartida entre los bulos es la conversión al Islam de personas durante la Copa Mundial de la FIFA 2022 en Qatar, en presencia del predicador islámico Zakir Naik.\n",
      "\n",
      "431: La narrativa compartida entre todos los bulos es: El Proyecto Carne Humana es una iniciativa real que busca utilizar la carne humana con fines alimentarios.\n",
      "\n",
      "446: Narrativa: Avistamiento de un fantasma flotando sobre un camión en diferentes lugares de India durante la noche.\n",
      "\n",
      "Frase: \"Varios videos muestran un fantasma flotando sobre un camión en diferentes lugares de India durante la noche.\"\n",
      "\n",
      "265: La selección alemana de fútbol tuvo problemas para aterrizar en Qatar debido a un \"logo gay\".\n",
      "\n",
      "229: La narrativa compartida entre todos los bulos es: \"Cánticos en apoyo a Palestina durante la Copa Mundial de la FIFA 2022 en Qatar\".\n",
      "\n",
      "377: La narrativa compartida entre estos bulos es que la vacuna contra el COVID-19 de Pfizer causa coágulos de sangre según la FDA.\n",
      "\n",
      "410: NONE.\n",
      "\n",
      "393: La narrativa compartida entre todos los bulos es que los jugadores de fútbol de Arabia Saudita recibirán un automóvil Rolls Royce como premio por haber ganado a Argentina en la Copa Mundial de la FIFA 2022.\n",
      "\n",
      "293: NONE. No hay suficiente información compartida entre los bulos para definir una narrativa.\n",
      "\n",
      "326: La selección de fútbol de Japón dejó su vestuario en completo desorden después de su derrota ante Costa Rica en la Copa Mundial de la FIFA 2022.\n",
      "\n",
      "16: La tecnología Haarp es responsable del terremoto en Turquía.\n",
      "\n",
      "407: La narrativa compartida entre los bulos es que la marca Balenciaga tiene un significado satánico relacionado con la figura mitológica Baal, que significa \"Baal es el rey\".\n",
      "\n",
      "420: La narrativa compartida entre los bulos es que Irán ha abolido la policía moral. La frase sintetizada podría ser: \"Irán ha abolido la policía moral\".\n",
      "\n",
      "321: La narrativa compartida entre los bulos es que un globo espía chino fue derribado por el ejército de EE. UU.\n",
      "\n",
      "339: Las vacunas nasales contra la gripe para niños están relacionadas con infecciones por estreptococo A.\n",
      "\n",
      "325: La narrativa compartida entre los bulos es que un edificio público fue iluminado con los colores de la bandera de Marruecos después de que este país eliminara a España en el Mundial de Qatar 2022.\n",
      "\n",
      "470: NONE. Los bulos no comparten suficiente información para definir una narrativa común.\n",
      "\n",
      "345: La narrativa compartida entre todos los bulos es que existe un proyecto llamado EctoLife que se enfoca en la creación de una fábrica o instalación de matriz artificial capaz de incubar hasta 30.000 bebés al año.\n",
      "\n",
      "458: Narrativa compartida: Aficionados lanzando huevos y piedras a la selección brasileña de fútbol después de su eliminación de la Copa Mundial de Fútbol.\n",
      "\n",
      "239: La narrativa compartida entre todos los bulos es: Lionel Messi abrazando a su madre después de ganar un evento deportivo importante. Por lo tanto, la frase sintetizada podría ser: \"Video muestra a Lionel Messi abrazando a su madre tras ganar un evento deportivo importante\".\n",
      "\n",
      "256: La narrativa compartida entre todos los bulos es que el Banco Central de Argentina ha emitido nuevos billetes de 1000 pesos con la imagen de Lionel Messi.\n",
      "\n",
      "172: La narrativa compartida entre todos los bulos es que la policía rumana utilizó una caja de pizza para rastrear y arrestar a Andrew Tate. La frase que resume esta narrativa es: \"La policía rumana ubicó y arrestó a Andrew Tate gracias a una caja de pizza\".\n",
      "\n",
      "211: La FIFA conservará los pies de Pelé en un museo, con el permiso de su familia.\n",
      "\n",
      "452: La narrativa compartida entre todos los bulos es: \"Médicos discutiendo o peleando en un quirófano en un hospital, posiblemente en Pakistán o en PGI Chandigarh\".\n",
      "\n",
      "231: Narrativa: Viktor Orban anuncia que Hungría abandonará la Unión Europea.\n",
      "\n",
      "439: NONE. No hay suficiente información compartida entre los bulos para definir una narrativa.\n",
      "\n",
      "478: La narrativa compartida entre los bulos es que un hombre disfrazado de chamán, inspirado en el \"Chamán\" del Capitolio en Estados Unidos, participó en el asalto al Congreso en Brasil el 8 de enero de 2023.\n",
      "\n",
      "290: La narrativa compartida entre los bulos es que el jugador de fútbol americano Damar Hamlin sufrió un paro cardíaco relacionado con la vacuna Covid-19.\n",
      "\n",
      "384: La narrativa compartida entre los bulos es que una mezquita fue demolida después de izar la bandera de Pakistán.\n",
      "\n",
      "271: La narrativa compartida entre todos los bulos es la presencia de una \"extraña luz\" o \"fenómeno aéreo\" en el cielo de Turquía antes del terremoto. La frase sintetizada podría ser: \"Varios videos e imágenes muestran una extraña luz o fenómeno aéreo en el cielo de Turquía antes del terremoto\".\n",
      "\n"
     ]
    }
   ],
   "source": [
    "for cluster in claims.cluster.unique():\n",
    "    if cluster in narratives:\n",
    "        continue\n",
    "\n",
    "    fakes = claims[claims.cluster == cluster].sort_values(\"probability\",ascending=False)[\"claimReviewed_t\"].head(5).values\n",
    "    prompt = \"Eres un Senior Data Scientist que aplica sus conocimientos para combatir la desinformación. Trabajas en un estudio sobre como esta se propaga. Sostienes una hipótesis: en ocasiones las mentiras aparecen en distintos sitios, adaptadas al contexto local. Defines la información común entre estos bulos como narrativa. Estas encargado de sintetizar varios bulos en una frase. Dicha frase ha de contenter la narrativa compartida entre todos los bulos. Es imprescindible que la frase contenga únicamente información que este presente en la mayoría de los bulos. Si los bulos no comparten suficiente información para definir una narrativa escribe \\\"NONE\\\". Los bulos son: \"\n",
    "    fakes = \" \\n\".join(fakes)\n",
    "    response = openai.ChatCompletion.create(\n",
    "        model=\"gpt-3.5-turbo\",\n",
    "        messages=[\n",
    "          {\"role\": \"user\", \"content\": prompt},\n",
    "            {\"role\": \"user\", \"content\": fakes}\n",
    "        ],\n",
    "        max_tokens=200,\n",
    "        temperature=0.2\n",
    "    )\n",
    "    narratives[cluster] = response[\"choices\"][0][\"message\"][\"content\"]\n",
    "    print(f\"{cluster}: {narratives[cluster]}\\n\")"
   ]
  },
  {
   "cell_type": "code",
   "execution_count": 143,
   "id": "5b0a2e5f-51a1-40e0-b942-d944bb6d537d",
   "metadata": {
    "tags": []
   },
   "outputs": [],
   "source": [
    "narratives_df = pd.Series(narratives,name=\"Narrative\").sort_index().apply(lambda x: None if \"NONE\" in x else x)\n",
    "narratives_df = narratives_df.sort_index().reset_index()\n",
    "narratives_df = narratives_df.rename({\"index\":\"cluster\"},axis=1).set_index(\"cluster\")"
   ]
  },
  {
   "cell_type": "code",
   "execution_count": 144,
   "id": "a4d2be1d-697e-4686-8e5c-d279f818f595",
   "metadata": {
    "tags": []
   },
   "outputs": [],
   "source": [
    "narratives_df.to_json(f\"topic_runs/{config_id}/narratives.json\")"
   ]
  },
  {
   "cell_type": "code",
   "execution_count": 151,
   "id": "e99c2af7-a6a1-4fd9-adef-fe0484f48926",
   "metadata": {
    "tags": []
   },
   "outputs": [
    {
     "data": {
      "text/html": [
       "<div>\n",
       "<style scoped>\n",
       "    .dataframe tbody tr th:only-of-type {\n",
       "        vertical-align: middle;\n",
       "    }\n",
       "\n",
       "    .dataframe tbody tr th {\n",
       "        vertical-align: top;\n",
       "    }\n",
       "\n",
       "    .dataframe thead th {\n",
       "        text-align: right;\n",
       "    }\n",
       "</style>\n",
       "<table border=\"1\" class=\"dataframe\">\n",
       "  <thead>\n",
       "    <tr style=\"text-align: right;\">\n",
       "      <th></th>\n",
       "      <th>Narrative</th>\n",
       "    </tr>\n",
       "    <tr>\n",
       "      <th>cluster</th>\n",
       "      <th></th>\n",
       "    </tr>\n",
       "  </thead>\n",
       "  <tbody>\n",
       "    <tr>\n",
       "      <th>480</th>\n",
       "      <td>La narrativa compartida entre estos bulos es que JP Nadda comparó al gobierno del BJP con violadores.</td>\n",
       "    </tr>\n",
       "    <tr>\n",
       "      <th>311</th>\n",
       "      <td>La narrativa compartida entre los bulos es la utilización de autobuses para transportar simpatizantes o manifestantes a eventos políticos o protestas.</td>\n",
       "    </tr>\n",
       "    <tr>\n",
       "      <th>97</th>\n",
       "      <td>Narrativa: Elon Musk planea adquirir Meta e Instagram.</td>\n",
       "    </tr>\n",
       "  </tbody>\n",
       "</table>\n",
       "</div>"
      ],
      "text/plain": [
       "                                                                                                                                                      Narrative\n",
       "cluster                                                                                                                                                        \n",
       "480                                                       La narrativa compartida entre estos bulos es que JP Nadda comparó al gobierno del BJP con violadores.\n",
       "311      La narrativa compartida entre los bulos es la utilización de autobuses para transportar simpatizantes o manifestantes a eventos políticos o protestas.\n",
       "97                                                                                                       Narrativa: Elon Musk planea adquirir Meta e Instagram."
      ]
     },
     "execution_count": 151,
     "metadata": {},
     "output_type": "execute_result"
    }
   ],
   "source": [
    "narratives_df[narratives_df.Narrative.notna()].sample(3)"
   ]
  },
  {
   "cell_type": "code",
   "execution_count": 159,
   "id": "aeee1859-2f29-4e10-b754-e3b4792662dc",
   "metadata": {
    "tags": []
   },
   "outputs": [
    {
     "data": {
      "text/html": [
       "<div>\n",
       "<style scoped>\n",
       "    .dataframe tbody tr th:only-of-type {\n",
       "        vertical-align: middle;\n",
       "    }\n",
       "\n",
       "    .dataframe tbody tr th {\n",
       "        vertical-align: top;\n",
       "    }\n",
       "\n",
       "    .dataframe thead th {\n",
       "        text-align: right;\n",
       "    }\n",
       "</style>\n",
       "<table border=\"1\" class=\"dataframe\">\n",
       "  <thead>\n",
       "    <tr style=\"text-align: right;\">\n",
       "      <th></th>\n",
       "      <th>cluster</th>\n",
       "      <th>Narrative</th>\n",
       "    </tr>\n",
       "  </thead>\n",
       "  <tbody>\n",
       "    <tr>\n",
       "      <th>0</th>\n",
       "      <td>-1</td>\n",
       "      <td>None</td>\n",
       "    </tr>\n",
       "    <tr>\n",
       "      <th>1</th>\n",
       "      <td>0</td>\n",
       "      <td>None</td>\n",
       "    </tr>\n",
       "    <tr>\n",
       "      <th>2</th>\n",
       "      <td>1</td>\n",
       "      <td>La narrativa compartida entre todos los bulos es que el cambio climático no es causado por las emisiones humanas de CO2.</td>\n",
       "    </tr>\n",
       "    <tr>\n",
       "      <th>3</th>\n",
       "      <td>2</td>\n",
       "      <td>None</td>\n",
       "    </tr>\n",
       "    <tr>\n",
       "      <th>4</th>\n",
       "      <td>3</td>\n",
       "      <td>None</td>\n",
       "    </tr>\n",
       "    <tr>\n",
       "      <th>...</th>\n",
       "      <td>...</td>\n",
       "      <td>...</td>\n",
       "    </tr>\n",
       "    <tr>\n",
       "      <th>479</th>\n",
       "      <td>478</td>\n",
       "      <td>La narrativa compartida entre los bulos es que un hombre disfrazado de chamán, inspirado en el \"Chamán\" del Capitolio en Estados Unidos, participó en el asalto al Congreso en Brasil el 8 de enero de 2023.</td>\n",
       "    </tr>\n",
       "    <tr>\n",
       "      <th>480</th>\n",
       "      <td>479</td>\n",
       "      <td>La narrativa compartida entre todos los bulos es la curación de enfermedades mediante productos aprobados por la FDA o agencias de salud en distintos países, como Cagan Nano, Bio Stomach Curcumin, Thyroid Mana Nano Curcumin y la leche de curcumina Hera Nano.</td>\n",
       "    </tr>\n",
       "    <tr>\n",
       "      <th>481</th>\n",
       "      <td>480</td>\n",
       "      <td>La narrativa compartida entre estos bulos es que JP Nadda comparó al gobierno del BJP con violadores.</td>\n",
       "    </tr>\n",
       "    <tr>\n",
       "      <th>482</th>\n",
       "      <td>481</td>\n",
       "      <td>None</td>\n",
       "    </tr>\n",
       "    <tr>\n",
       "      <th>483</th>\n",
       "      <td>482</td>\n",
       "      <td>None</td>\n",
       "    </tr>\n",
       "  </tbody>\n",
       "</table>\n",
       "<p>484 rows × 2 columns</p>\n",
       "</div>"
      ],
      "text/plain": [
       "     cluster  \\\n",
       "0         -1   \n",
       "1          0   \n",
       "2          1   \n",
       "3          2   \n",
       "4          3   \n",
       "..       ...   \n",
       "479      478   \n",
       "480      479   \n",
       "481      480   \n",
       "482      481   \n",
       "483      482   \n",
       "\n",
       "                                                                                                                                                                                                                                                              Narrative  \n",
       "0                                                                                                                                                                                                                                                                  None  \n",
       "1                                                                                                                                                                                                                                                                  None  \n",
       "2                                                                                                                                              La narrativa compartida entre todos los bulos es que el cambio climático no es causado por las emisiones humanas de CO2.  \n",
       "3                                                                                                                                                                                                                                                                  None  \n",
       "4                                                                                                                                                                                                                                                                  None  \n",
       "..                                                                                                                                                                                                                                                                  ...  \n",
       "479                                                        La narrativa compartida entre los bulos es que un hombre disfrazado de chamán, inspirado en el \"Chamán\" del Capitolio en Estados Unidos, participó en el asalto al Congreso en Brasil el 8 de enero de 2023.  \n",
       "480  La narrativa compartida entre todos los bulos es la curación de enfermedades mediante productos aprobados por la FDA o agencias de salud en distintos países, como Cagan Nano, Bio Stomach Curcumin, Thyroid Mana Nano Curcumin y la leche de curcumina Hera Nano.  \n",
       "481                                                                                                                                                               La narrativa compartida entre estos bulos es que JP Nadda comparó al gobierno del BJP con violadores.  \n",
       "482                                                                                                                                                                                                                                                                None  \n",
       "483                                                                                                                                                                                                                                                                None  \n",
       "\n",
       "[484 rows x 2 columns]"
      ]
     },
     "execution_count": 159,
     "metadata": {},
     "output_type": "execute_result"
    }
   ],
   "source": [
    "narratives_df.reset_index()"
   ]
  },
  {
   "cell_type": "code",
   "execution_count": 174,
   "id": "9102ecad-d091-4de2-8d87-3ecfa98e33f8",
   "metadata": {
    "tags": []
   },
   "outputs": [],
   "source": [
    "pd.merge(claims,narratives_df,on=\"cluster\",how=\"left\").sort_values(\"cluster\")[[\"_id\",\"cluster\",\"Narrative\",\"country\",\"claimReviewed\",\"claimReviewed_t\"]].to_csv(\"borja.csv\")"
   ]
  }
 ],
 "metadata": {
  "kernelspec": {
   "display_name": "Python 3 (ipykernel)",
   "language": "python",
   "name": "python3"
  },
  "language_info": {
   "codemirror_mode": {
    "name": "ipython",
    "version": 3
   },
   "file_extension": ".py",
   "mimetype": "text/x-python",
   "name": "python",
   "nbconvert_exporter": "python",
   "pygments_lexer": "ipython3",
   "version": "3.10.6"
  }
 },
 "nbformat": 4,
 "nbformat_minor": 5
}
